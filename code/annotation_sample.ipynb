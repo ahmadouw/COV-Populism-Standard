{
 "cells": [
  {
   "cell_type": "code",
   "execution_count": null,
   "id": "2492de31",
   "metadata": {},
   "outputs": [],
   "source": [
    "import pandas as pd\n",
    "import numpy as np\n",
    "from helper_functionss import*"
   ]
  },
  {
   "cell_type": "code",
   "execution_count": null,
   "id": "b06e8a56",
   "metadata": {},
   "outputs": [],
   "source": [
    "pop_covid = read_covid()\n",
    "pop_non_covid = read_non_covid()\n",
    "pop_reference = read_reference()\n",
    "pop_reference.columns.values[4] = 'ID_Posting'\n",
    "pop_non_covid.columns.values[4] = 'ID_Posting'"
   ]
  },
  {
   "cell_type": "code",
   "execution_count": null,
   "id": "41c165ca",
   "metadata": {},
   "outputs": [],
   "source": [
    "#count the dictionary populism scores for the covid-sample\n",
    "covid_count = pop_covid['Score'].value_counts().to_frame()\n",
    "covid_count['Percentage'] = covid_count/len(pop_covid)\n",
    "covid_count['Percentage'] = covid_count['Percentage'].round(6)"
   ]
  },
  {
   "cell_type": "code",
   "execution_count": null,
   "id": "5ddf08b5",
   "metadata": {},
   "outputs": [
    {
     "data": {
      "text/html": [
       "<div>\n",
       "<style scoped>\n",
       "    .dataframe tbody tr th:only-of-type {\n",
       "        vertical-align: middle;\n",
       "    }\n",
       "\n",
       "    .dataframe tbody tr th {\n",
       "        vertical-align: top;\n",
       "    }\n",
       "\n",
       "    .dataframe thead th {\n",
       "        text-align: right;\n",
       "    }\n",
       "</style>\n",
       "<table border=\"1\" class=\"dataframe\">\n",
       "  <thead>\n",
       "    <tr style=\"text-align: right;\">\n",
       "      <th></th>\n",
       "      <th>Score</th>\n",
       "      <th>Percentage</th>\n",
       "    </tr>\n",
       "  </thead>\n",
       "  <tbody>\n",
       "    <tr>\n",
       "      <th>0</th>\n",
       "      <td>7081789</td>\n",
       "      <td>0.975288</td>\n",
       "    </tr>\n",
       "    <tr>\n",
       "      <th>1</th>\n",
       "      <td>172356</td>\n",
       "      <td>0.023736</td>\n",
       "    </tr>\n",
       "    <tr>\n",
       "      <th>2</th>\n",
       "      <td>6538</td>\n",
       "      <td>0.000900</td>\n",
       "    </tr>\n",
       "    <tr>\n",
       "      <th>3</th>\n",
       "      <td>481</td>\n",
       "      <td>0.000066</td>\n",
       "    </tr>\n",
       "    <tr>\n",
       "      <th>4</th>\n",
       "      <td>51</td>\n",
       "      <td>0.000007</td>\n",
       "    </tr>\n",
       "    <tr>\n",
       "      <th>5</th>\n",
       "      <td>15</td>\n",
       "      <td>0.000002</td>\n",
       "    </tr>\n",
       "    <tr>\n",
       "      <th>6</th>\n",
       "      <td>1</td>\n",
       "      <td>0.000000</td>\n",
       "    </tr>\n",
       "  </tbody>\n",
       "</table>\n",
       "</div>"
      ],
      "text/plain": [
       "     Score  Percentage\n",
       "0  7081789    0.975288\n",
       "1   172356    0.023736\n",
       "2     6538    0.000900\n",
       "3      481    0.000066\n",
       "4       51    0.000007\n",
       "5       15    0.000002\n",
       "6        1    0.000000"
      ]
     },
     "execution_count": null,
     "metadata": {},
     "output_type": "execute_result"
    }
   ],
   "source": [
    "covid_count"
   ]
  },
  {
   "cell_type": "code",
   "execution_count": null,
   "id": "318ff5a4",
   "metadata": {},
   "outputs": [],
   "source": [
    "#count the dictionary populism scores for the non-covid-sample\n",
    "non_covid_count = pop_non_covid['Score'].value_counts().to_frame()\n",
    "non_covid_count['Percentage'] = non_covid_count/len(pop_non_covid)\n",
    "non_covid_count['Percentage'] = non_covid_count['Percentage'].round(6)"
   ]
  },
  {
   "cell_type": "code",
   "execution_count": null,
   "id": "8170de1f",
   "metadata": {},
   "outputs": [
    {
     "data": {
      "text/html": [
       "<div>\n",
       "<style scoped>\n",
       "    .dataframe tbody tr th:only-of-type {\n",
       "        vertical-align: middle;\n",
       "    }\n",
       "\n",
       "    .dataframe tbody tr th {\n",
       "        vertical-align: top;\n",
       "    }\n",
       "\n",
       "    .dataframe thead th {\n",
       "        text-align: right;\n",
       "    }\n",
       "</style>\n",
       "<table border=\"1\" class=\"dataframe\">\n",
       "  <thead>\n",
       "    <tr style=\"text-align: right;\">\n",
       "      <th></th>\n",
       "      <th>Score</th>\n",
       "      <th>Percentage</th>\n",
       "    </tr>\n",
       "  </thead>\n",
       "  <tbody>\n",
       "    <tr>\n",
       "      <th>0</th>\n",
       "      <td>10175049</td>\n",
       "      <td>0.964576</td>\n",
       "    </tr>\n",
       "    <tr>\n",
       "      <th>1</th>\n",
       "      <td>355125</td>\n",
       "      <td>0.033665</td>\n",
       "    </tr>\n",
       "    <tr>\n",
       "      <th>2</th>\n",
       "      <td>17075</td>\n",
       "      <td>0.001619</td>\n",
       "    </tr>\n",
       "    <tr>\n",
       "      <th>3</th>\n",
       "      <td>1302</td>\n",
       "      <td>0.000123</td>\n",
       "    </tr>\n",
       "    <tr>\n",
       "      <th>4</th>\n",
       "      <td>151</td>\n",
       "      <td>0.000014</td>\n",
       "    </tr>\n",
       "    <tr>\n",
       "      <th>5</th>\n",
       "      <td>17</td>\n",
       "      <td>0.000002</td>\n",
       "    </tr>\n",
       "    <tr>\n",
       "      <th>6</th>\n",
       "      <td>5</td>\n",
       "      <td>0.000000</td>\n",
       "    </tr>\n",
       "    <tr>\n",
       "      <th>7</th>\n",
       "      <td>2</td>\n",
       "      <td>0.000000</td>\n",
       "    </tr>\n",
       "    <tr>\n",
       "      <th>10</th>\n",
       "      <td>1</td>\n",
       "      <td>0.000000</td>\n",
       "    </tr>\n",
       "    <tr>\n",
       "      <th>9</th>\n",
       "      <td>1</td>\n",
       "      <td>0.000000</td>\n",
       "    </tr>\n",
       "  </tbody>\n",
       "</table>\n",
       "</div>"
      ],
      "text/plain": [
       "       Score  Percentage\n",
       "0   10175049    0.964576\n",
       "1     355125    0.033665\n",
       "2      17075    0.001619\n",
       "3       1302    0.000123\n",
       "4        151    0.000014\n",
       "5         17    0.000002\n",
       "6          5    0.000000\n",
       "7          2    0.000000\n",
       "10         1    0.000000\n",
       "9          1    0.000000"
      ]
     },
     "execution_count": null,
     "metadata": {},
     "output_type": "execute_result"
    }
   ],
   "source": [
    "non_covid_count"
   ]
  },
  {
   "cell_type": "code",
   "execution_count": null,
   "id": "5030b512",
   "metadata": {},
   "outputs": [],
   "source": [
    "#count the dictionary populism scores for the reference-sample\n",
    "reference_count = pop_reference['Score'].value_counts().to_frame()\n",
    "reference_count['Percentage'] = reference_count/len(pop_reference)\n",
    "reference_count['Percentage'] = reference_count['Percentage'].round(6)"
   ]
  },
  {
   "cell_type": "code",
   "execution_count": null,
   "id": "d8c1def4",
   "metadata": {},
   "outputs": [
    {
     "data": {
      "text/html": [
       "<div>\n",
       "<style scoped>\n",
       "    .dataframe tbody tr th:only-of-type {\n",
       "        vertical-align: middle;\n",
       "    }\n",
       "\n",
       "    .dataframe tbody tr th {\n",
       "        vertical-align: top;\n",
       "    }\n",
       "\n",
       "    .dataframe thead th {\n",
       "        text-align: right;\n",
       "    }\n",
       "</style>\n",
       "<table border=\"1\" class=\"dataframe\">\n",
       "  <thead>\n",
       "    <tr style=\"text-align: right;\">\n",
       "      <th></th>\n",
       "      <th>Score</th>\n",
       "      <th>Percentage</th>\n",
       "    </tr>\n",
       "  </thead>\n",
       "  <tbody>\n",
       "    <tr>\n",
       "      <th>0</th>\n",
       "      <td>5771093</td>\n",
       "      <td>0.962954</td>\n",
       "    </tr>\n",
       "    <tr>\n",
       "      <th>1</th>\n",
       "      <td>210961</td>\n",
       "      <td>0.035201</td>\n",
       "    </tr>\n",
       "    <tr>\n",
       "      <th>2</th>\n",
       "      <td>10133</td>\n",
       "      <td>0.001691</td>\n",
       "    </tr>\n",
       "    <tr>\n",
       "      <th>3</th>\n",
       "      <td>801</td>\n",
       "      <td>0.000134</td>\n",
       "    </tr>\n",
       "    <tr>\n",
       "      <th>4</th>\n",
       "      <td>104</td>\n",
       "      <td>0.000017</td>\n",
       "    </tr>\n",
       "    <tr>\n",
       "      <th>5</th>\n",
       "      <td>18</td>\n",
       "      <td>0.000003</td>\n",
       "    </tr>\n",
       "    <tr>\n",
       "      <th>6</th>\n",
       "      <td>3</td>\n",
       "      <td>0.000001</td>\n",
       "    </tr>\n",
       "    <tr>\n",
       "      <th>7</th>\n",
       "      <td>1</td>\n",
       "      <td>0.000000</td>\n",
       "    </tr>\n",
       "    <tr>\n",
       "      <th>60</th>\n",
       "      <td>1</td>\n",
       "      <td>0.000000</td>\n",
       "    </tr>\n",
       "    <tr>\n",
       "      <th>10</th>\n",
       "      <td>1</td>\n",
       "      <td>0.000000</td>\n",
       "    </tr>\n",
       "  </tbody>\n",
       "</table>\n",
       "</div>"
      ],
      "text/plain": [
       "      Score  Percentage\n",
       "0   5771093    0.962954\n",
       "1    210961    0.035201\n",
       "2     10133    0.001691\n",
       "3       801    0.000134\n",
       "4       104    0.000017\n",
       "5        18    0.000003\n",
       "6         3    0.000001\n",
       "7         1    0.000000\n",
       "60        1    0.000000\n",
       "10        1    0.000000"
      ]
     },
     "execution_count": null,
     "metadata": {},
     "output_type": "execute_result"
    }
   ],
   "source": [
    "reference_count"
   ]
  },
  {
   "cell_type": "code",
   "execution_count": null,
   "id": "6d1c5cd1",
   "metadata": {},
   "outputs": [
    {
     "name": "stdout",
     "output_type": "stream",
     "text": [
      "3604595                                                                                                                                                                                                   Schande! Schande! Schande! Schande! Schande! Schande! Schande! Schande! Schande! Schande! Schande! Schande! Schande! Schande! Schande! Schande! Schande! Schande! Schande! Schande! Schande! Schande! Schande! Schande! Schande! Schande! Schande! Schande! Schande! Schande! Schande! Schande! Schande! Schande! Schande! Schande! Schande! Schande! Schande! Schande! Schande! Schande! Schande! Schande! Schande! Schande! Schande! Schande! Schande! Schande! Schande! Schande! Schande! Schande! Schande! Schande! Schande! Schande! Schande! Schande! \\r\\nDRECKSBANDE\n",
      "4478490    \"Ich soll nicht von einem Foto auf selbstgefällige Dummheit schließen.\"\\r\\n\"Ich soll nicht von einem Foto auf selbstgefällige Dummheit schließen.\"\\r\\n\"Ich soll nicht von einem Foto auf selbstgefällige Dummheit schließen.\"\\r\\n\"Ich soll nicht von einem Foto auf selbstgefällige Dummheit schließen.\"\\r\\n\"Ich soll nicht von einem Foto auf selbstgefällige Dummheit schließen.\"\\r\\n\"Ich soll nicht von einem Foto auf selbstgefällige Dummheit schließen.\"\\r\\n\"Ich soll nicht von einem Foto auf selbstgefällige Dummheit schließen.\"\\r\\n\"Ich soll nicht von einem Foto auf selbstgefällige Dummheit schließen.\"\\r\\n\"Ich soll nicht von einem Foto auf selbstgefällige Dummheit schließen.\"\\r\\n\"Ich soll nicht von einem Foto auf selbstgefällige Dummheit schließen.\"\n",
      "Series([], )\n",
      "4228488                                                                                                                                                                                                                                                                                                                                                      An ihre Lehrer...Schande! Klingeling. Schande! Klingeling. Schande! Klingeling. Schande! Klingeling. Schande! Klingeling. Schande! Klingeling. Schande! Klingeling. Schande! Klingeling. Schande! Klingeling. Schande! Klingeling.\n",
      "6336284    Zum Pöbel ghern ah Menschen de woaundast ihre Wurzeln hom. Den des Göd waundert ned vom österreichischn Pöbel zum migrantischen Pöbel. Es gibt nur an Pöbel. Es waundert vom gesamten Pöbel zu den Gstopften. Deswegen muas ma kan vom Pöbel wos neidig sei. Ma muaß generell ned neidig sei, sundan einfordern wos dem Pöbel zuasteht. DDen Gstopften is es nur recht, wenns ned des gstuhlane Göd endlich hergebn miaßn und wenn ma uns um des Göd Pöbel-intern streitn. Der Pöbel ist gscheit, wenn er des ned mocht. Der Woihstaund is ned beiim Pöbel. Er is bei den Gstopften.\n"
     ]
    }
   ],
   "source": [
    "#inspect extreme values\n",
    "print(pop_reference['Comment'].loc[pop_reference['Score']>7].to_string())\n",
    "print(pop_covid['Comment'].loc[pop_covid['Score']>7].to_string())\n",
    "print(pop_non_covid['Comment'].loc[pop_non_covid['Score']>7].to_string())"
   ]
  },
  {
   "cell_type": "code",
   "execution_count": null,
   "id": "dda87e12",
   "metadata": {},
   "outputs": [],
   "source": [
    "#remove repetitive comments seen above\n",
    "pop_reference = pop_reference.loc[pop_reference['Score']<7]\n",
    "pop_non_covid = pop_non_covid.loc[pop_non_covid['Score']<9]"
   ]
  },
  {
   "cell_type": "code",
   "execution_count": null,
   "id": "cc4e57ad",
   "metadata": {},
   "outputs": [],
   "source": [
    "#draw samples for annotation\n",
    "#1. draw a random sample of size 200 from each df that has a populism score > 2\n",
    "np.random.seed(1337)\n",
    "pop_covid_high = pop_covid.loc[pop_covid['Score']>=2]\n",
    "pop_non_covid_high = pop_non_covid.loc[pop_non_covid['Score']>=2]\n",
    "pop_reference_high = pop_reference.loc[pop_reference['Score']>=2]"
   ]
  },
  {
   "cell_type": "code",
   "execution_count": null,
   "id": "ca5a1b92",
   "metadata": {},
   "outputs": [],
   "source": [
    "pop_covid_sample = pop_covid_high.sample(200)\n",
    "pop_non_covid_sample = pop_non_covid_high.sample(200)\n",
    "pop_reference_sample = pop_reference_high.sample(200)"
   ]
  },
  {
   "cell_type": "code",
   "execution_count": null,
   "id": "40a9281f",
   "metadata": {},
   "outputs": [
    {
     "data": {
      "text/plain": [
       "2    183\n",
       "3     15\n",
       "4      2\n",
       "Name: Score, dtype: int64"
      ]
     },
     "execution_count": null,
     "metadata": {},
     "output_type": "execute_result"
    }
   ],
   "source": [
    "pop_covid_sample['Score'].value_counts()"
   ]
  },
  {
   "cell_type": "code",
   "execution_count": null,
   "id": "b0e4b337",
   "metadata": {},
   "outputs": [
    {
     "data": {
      "text/plain": [
       "2    182\n",
       "3     16\n",
       "4      2\n",
       "Name: Score, dtype: int64"
      ]
     },
     "execution_count": null,
     "metadata": {},
     "output_type": "execute_result"
    }
   ],
   "source": [
    "pop_non_covid_sample['Score'].value_counts()"
   ]
  },
  {
   "cell_type": "code",
   "execution_count": null,
   "id": "17e8c939",
   "metadata": {},
   "outputs": [
    {
     "data": {
      "text/plain": [
       "2    185\n",
       "3     15\n",
       "Name: Score, dtype: int64"
      ]
     },
     "execution_count": null,
     "metadata": {},
     "output_type": "execute_result"
    }
   ],
   "source": [
    "pop_reference_sample['Score'].value_counts()"
   ]
  },
  {
   "cell_type": "code",
   "execution_count": null,
   "id": "7c4e30cc",
   "metadata": {},
   "outputs": [],
   "source": [
    "#2. exclude already sampled comments and draw another sample of 200 comments from the whole sets\n",
    "pop_covid_sample_whole = pd.concat([pop_covid,pop_covid_sample]).drop_duplicates(keep=False)\n",
    "pop_non_covid_sample_whole = pd.concat([pop_non_covid,pop_reference_sample]).drop_duplicates(keep=False)\n",
    "pop_reference_sample_whole = pd.concat([pop_reference,pop_reference_sample]).drop_duplicates(keep=False)\n",
    "pop_covid_sample_whole = pop_covid_sample_whole.sample(200)\n",
    "pop_non_covid_sample_whole = pop_non_covid_sample_whole.sample(200)\n",
    "pop_reference_sample_whole = pop_reference_sample_whole.sample(200)"
   ]
  },
  {
   "cell_type": "code",
   "execution_count": null,
   "id": "f7e03d1b",
   "metadata": {},
   "outputs": [
    {
     "data": {
      "text/plain": [
       "0    198\n",
       "1      2\n",
       "Name: Score, dtype: int64"
      ]
     },
     "execution_count": null,
     "metadata": {},
     "output_type": "execute_result"
    }
   ],
   "source": [
    "pop_covid_sample_whole['Score'].value_counts()"
   ]
  },
  {
   "cell_type": "code",
   "execution_count": null,
   "id": "e2e84376",
   "metadata": {},
   "outputs": [
    {
     "data": {
      "text/plain": [
       "0    196\n",
       "1      4\n",
       "Name: Score, dtype: int64"
      ]
     },
     "execution_count": null,
     "metadata": {},
     "output_type": "execute_result"
    }
   ],
   "source": [
    "pop_non_covid_sample_whole['Score'].value_counts()"
   ]
  },
  {
   "cell_type": "code",
   "execution_count": null,
   "id": "f9bc5dab",
   "metadata": {},
   "outputs": [
    {
     "data": {
      "text/plain": [
       "0    193\n",
       "1      6\n",
       "2      1\n",
       "Name: Score, dtype: int64"
      ]
     },
     "execution_count": null,
     "metadata": {},
     "output_type": "execute_result"
    }
   ],
   "source": [
    "pop_reference_sample_whole['Score'].value_counts()"
   ]
  },
  {
   "cell_type": "code",
   "execution_count": null,
   "id": "c97dead2",
   "metadata": {},
   "outputs": [],
   "source": [
    "#combine all samples\n",
    "pop_covid_sample_final = pd.concat([pop_covid_sample_whole,pop_covid_sample])\n",
    "pop_non_covid_sample_final = pd.concat([pop_non_covid_sample_whole,pop_non_covid_sample])\n",
    "pop_reference_sample_final = pd.concat([pop_reference_sample_whole,pop_reference_sample])\n",
    "final_sample = pd.concat([pop_covid_sample_final,pop_non_covid_sample_final,pop_reference_sample_final])\n",
    "#random shuffle\n",
    "final_sample = final_sample.sample(frac=1)"
   ]
  },
  {
   "cell_type": "code",
   "execution_count": null,
   "id": "1db5caa7",
   "metadata": {},
   "outputs": [],
   "source": [
    "final_sample = final_sample[['ID_Posting','Comment']]"
   ]
  },
  {
   "cell_type": "code",
   "execution_count": null,
   "id": "51254886",
   "metadata": {},
   "outputs": [],
   "source": [
    "final_sample.to_csv('../data/annotation_sample.csv',index=True,header=False)"
   ]
  },
  {
   "cell_type": "code",
   "execution_count": null,
   "id": "6628841d",
   "metadata": {},
   "outputs": [
    {
     "name": "stdout",
     "output_type": "stream",
     "text": [
      "Maximum number of characters: 765\n",
      "Minimum number of characters: 56\n",
      "Mean number of characters: 367.4175\n",
      "Maximum number of words: 109\n",
      "Minimum number of words: 11\n",
      "Mean number of words: 52.7075\n",
      "Amount of comments with exactly one word: 0\n"
     ]
    }
   ],
   "source": [
    "text_stats(final_sample)"
   ]
  },
  {
   "cell_type": "code",
   "execution_count": null,
   "id": "cab53ae4",
   "metadata": {},
   "outputs": [
    {
     "data": {
      "text/plain": [
       "0    587\n",
       "2    551\n",
       "3     46\n",
       "1     12\n",
       "4      4\n",
       "Name: Score, dtype: int64"
      ]
     },
     "execution_count": null,
     "metadata": {},
     "output_type": "execute_result"
    }
   ],
   "source": [
    "final_sample['Score'].value_counts()"
   ]
  }
 ],
 "metadata": {
  "interpreter": {
   "hash": "8af634696c0e199b60ec7a55230a896342180e790ec00540287bfd386994fd7b"
  },
  "kernelspec": {
   "display_name": "popaut",
   "language": "python",
   "name": "popaut"
  },
  "language_info": {
   "codemirror_mode": {
    "name": "ipython",
    "version": 3
   },
   "file_extension": ".py",
   "mimetype": "text/x-python",
   "name": "python",
   "nbconvert_exporter": "python",
   "pygments_lexer": "ipython3",
   "version": "3.10.9"
  }
 },
 "nbformat": 4,
 "nbformat_minor": 5
}
