{
 "cells": [
  {
   "cell_type": "code",
   "execution_count": null,   "id": "30c45bee",
   "metadata": {},
   "outputs": [],
   "source": [
    "import lime_processing as lime\n",
    "import pandas as pd\n",
    "pd.set_option('display.max_rows', None)\n",
    "import warnings\n",
    "warnings.filterwarnings('ignore')"
   ]
  },
  {
   "cell_type": "markdown",
   "id": "74e3ceda",
   "metadata": {},
   "source": [
    "# Label Processing of Annotation Study\n",
    "This notebooks takes the output csv of Lime Survey, converts it into a pandas DF and creates binary labels for all populist motives for each participant. It also assigns a binary populism label that is 1, if a participant chose at least one populist motive. Aftwerwards all votes are aggregated and the populism label is assigned by a majority vote to end up with the gold standard data set. Agreement of the annotators is measured by calculating Krippendorff's alpha."
   ]
  },
  {
   "cell_type": "markdown",
   "id": "67ea6cbb",
   "metadata": {},
   "source": [
    "## Participant 0 (all comments)"
   ]
  },
  {
   "cell_type": "code",
   "execution_count": null,   "id": "4b9644f2",
   "metadata": {},
   "outputs": [],
   "source": [
    "part1A = lime.load_survey(\"Participant 0/participant0_part1.csv\")\n",
    "part1A = lime.process_labels(part1A)\n",
    "final1A = lime.create_pop_df(part1A)"
   ]
  },
  {
   "cell_type": "code",
   "execution_count": null,   "id": "b4038e0b",
   "metadata": {},
   "outputs": [],
   "source": [
    "part2A = lime.load_survey(\"Participant 0/participant0_part2.csv\")\n",
    "part2A = lime.process_labels(part2A)\n",
    "final2A = lime.create_pop_df(part2A)"
   ]
  },
  {
   "cell_type": "code",
   "execution_count": null,   "id": "090889d7",
   "metadata": {},
   "outputs": [],
   "source": [
    "part3A = lime.load_survey(\"Participant 0/participant0_part3.csv\")\n",
    "part3A = lime.process_labels(part3A)\n",
    "final3A = lime.create_pop_df(part3A)"
   ]
  },
  {
   "cell_type": "code",
   "execution_count": null,   "id": "a8bbd5d9",
   "metadata": {},
   "outputs": [],
   "source": [
    "part4A = lime.load_survey(\"Participant 0/participant0_part4.csv\")\n",
    "part4A = lime.process_labels(part4A)\n",
    "final4A = lime.create_pop_df(part4A)"
   ]
  },
  {
   "cell_type": "code",
   "execution_count": null,   "id": "46a11ea5",
   "metadata": {},
   "outputs": [],
   "source": [
    "part5A = lime.load_survey(\"Participant 0/participant0_part5.csv\")\n",
    "part5A = lime.process_labels(part5A)\n",
    "final5A = lime.create_pop_df(part5A)"
   ]
  },
  {
   "cell_type": "code",
   "execution_count": null,   "id": "1782efb2",
   "metadata": {},
   "outputs": [],
   "source": [
    "part6A = lime.load_survey(\"Participant 0/participant0_part6.csv\")\n",
    "part6A = lime.process_labels(part6A)\n",
    "final6A = lime.create_pop_df(part6A)"
   ]
  },
  {
   "cell_type": "code",
   "execution_count": null,   "id": "02cccf6d",
   "metadata": {},
   "outputs": [],
   "source": [
    "finalA = pd.concat([final1A, final2A, final3A, final4A, final5A, final6A])"
   ]
  },
  {
   "cell_type": "code",
   "execution_count": null,   "id": "d909ff62",
   "metadata": {},
   "outputs": [
    {
     "data": {
      "text/plain": [
       "302"
      ]
     },
     "execution_count": null,     "metadata": {},
     "output_type": "execute_result"
    }
   ],
   "source": [
    "batch1A = pd.concat([final1A,final2A])\n",
    "sum(batch1A['None'])"
   ]
  },
  {
   "cell_type": "code",
   "execution_count": null,   "id": "0db1ffd2",
   "metadata": {
    "scrolled": true
   },
   "outputs": [
    {
     "name": "stdout",
     "output_type": "stream",
     "text": [
      "The participant labelled 272 as Anti-Elitism\n",
      "The participant labelled 51 as People-Centrism\n",
      "The participant labelled 23 as People-Sovereignty\n",
      "The participant labelled 298 as populist in total\n"
     ]
    }
   ],
   "source": [
    "lime.pop_stats(finalA)"
   ]
  },
  {
   "cell_type": "markdown",
   "id": "db115d97",
   "metadata": {},
   "source": [
    "## Participant 1 (all comments)"
   ]
  },
  {
   "cell_type": "code",
   "execution_count": null,   "id": "f03fa405",
   "metadata": {},
   "outputs": [],
   "source": [
    "part11 = lime.load_survey(\"Participant 1/participant1_part1.csv\")\n",
    "part11 = lime.process_labels(part11)\n",
    "part11, gold11 = lime.extract_gold(part11,1)\n",
    "final11 = lime.create_pop_df(part11)"
   ]
  },
  {
   "cell_type": "code",
   "execution_count": null,   "id": "e01dc336",
   "metadata": {},
   "outputs": [],
   "source": [
    "part21 = lime.load_survey(\"Participant 1/participant1_part2.csv\")\n",
    "part21 = lime.process_labels(part21)\n",
    "part21, gold21 = lime.extract_gold(part21,2)\n",
    "final21 = lime.create_pop_df(part21)"
   ]
  },
  {
   "cell_type": "code",
   "execution_count": null,   "id": "4072b0e8",
   "metadata": {},
   "outputs": [],
   "source": [
    "part31 = lime.load_survey(\"Participant 1/participant1_part3.csv\")\n",
    "part31 = lime.process_labels(part31)\n",
    "part31, gold31 = lime.extract_gold(part31,3)\n",
    "final31 = lime.create_pop_df(part31)"
   ]
  },
  {
   "cell_type": "code",
   "execution_count": null,   "id": "4b7fe265",
   "metadata": {},
   "outputs": [],
   "source": [
    "part41 = lime.load_survey(\"Participant 1/participant1_part4.csv\")\n",
    "part41 = lime.process_labels(part41)\n",
    "part41, gold41 = lime.extract_gold(part41,4)\n",
    "final41 = lime.create_pop_df(part41)"
   ]
  },
  {
   "cell_type": "code",
   "execution_count": null,   "id": "535a496d",
   "metadata": {},
   "outputs": [],
   "source": [
    "part51 = lime.load_survey(\"Participant 1/participant1_part5.csv\")\n",
    "part51 = lime.process_labels(part51)\n",
    "part51, gold51 = lime.extract_gold(part51,5)\n",
    "final51 = lime.create_pop_df(part51)"
   ]
  },
  {
   "cell_type": "code",
   "execution_count": null,   "id": "d4e4d3e9",
   "metadata": {},
   "outputs": [],
   "source": [
    "part61 = lime.load_survey(\"Participant 1/participant1_part6.csv\")\n",
    "part61 = lime.process_labels(part61)\n",
    "part61, gold61 = lime.extract_gold(part61,6)\n",
    "final61 = lime.create_pop_df(part61)"
   ]
  },
  {
   "cell_type": "code",
   "execution_count": null,   "id": "278206cb",
   "metadata": {},
   "outputs": [],
   "source": [
    "final1 = pd.concat([final11, final21, final31, final41, final51, final61])"
   ]
  },
  {
   "cell_type": "code",
   "execution_count": null,   "id": "1c3019d9",
   "metadata": {},
   "outputs": [
    {
     "data": {
      "text/plain": [
       "288"
      ]
     },
     "execution_count": null,     "metadata": {},
     "output_type": "execute_result"
    }
   ],
   "source": [
    "batch = pd.concat([final11,final21])\n",
    "sum(batch['None'])"
   ]
  },
  {
   "cell_type": "code",
   "execution_count": null,   "id": "f95946f7",
   "metadata": {},
   "outputs": [
    {
     "name": "stdout",
     "output_type": "stream",
     "text": [
      "The participant labelled 299 as Anti-Elitism\n",
      "The participant labelled 39 as People-Centrism\n",
      "The participant labelled 29 as People-Sovereignty\n",
      "The participant labelled 323 as populist in total\n"
     ]
    }
   ],
   "source": [
    "lime.pop_stats(final1)"
   ]
  },
  {
   "cell_type": "markdown",
   "id": "f9de1947",
   "metadata": {},
   "source": [
    "## Participant 2 (Parts 1-2)"
   ]
  },
  {
   "cell_type": "code",
   "execution_count": null,   "id": "11de7410",
   "metadata": {},
   "outputs": [],
   "source": [
    "part12 = lime.load_survey(\"Participant 2/participant2_part1.csv\")\n",
    "part12 = lime.process_labels(part12)\n",
    "part12, gold12 = lime.extract_gold(part12,1)\n",
    "final12 = lime.create_pop_df(part12)"
   ]
  },
  {
   "cell_type": "code",
   "execution_count": null,   "id": "608b6696",
   "metadata": {},
   "outputs": [],
   "source": [
    "part22 = lime.load_survey(\"Participant 2/participant2_part2.csv\")\n",
    "part22 = lime.process_labels(part22)\n",
    "part22, gold22 = lime.extract_gold(part22,2)\n",
    "final22 = lime.create_pop_df(part22)"
   ]
  },
  {
   "cell_type": "code",
   "execution_count": null,   "id": "abb1c00e",
   "metadata": {},
   "outputs": [],
   "source": [
    "final2 = pd.concat([final12, final22])"
   ]
  },
  {
   "cell_type": "code",
   "execution_count": null,   "id": "e03aec3f",
   "metadata": {
    "scrolled": true
   },
   "outputs": [
    {
     "name": "stdout",
     "output_type": "stream",
     "text": [
      "The participant labelled 76 as Anti-Elitism\n",
      "The participant labelled 32 as People-Centrism\n",
      "The participant labelled 6 as People-Sovereignty\n",
      "The participant labelled 92 as populist in total\n"
     ]
    }
   ],
   "source": [
    "lime.pop_stats(final2)"
   ]
  },
  {
   "cell_type": "markdown",
   "id": "b5447836",
   "metadata": {},
   "source": [
    "## Participant 3 (Parts 3-4)"
   ]
  },
  {
   "cell_type": "code",
   "execution_count": null,   "id": "5aac2c46",
   "metadata": {},
   "outputs": [],
   "source": [
    "part33 = lime.load_survey(\"Participant 3/participant3_part1.csv\")\n",
    "part33 = lime.process_labels(part33)\n",
    "part33, gold33 = lime.extract_gold(part33,3)\n",
    "final33 = lime.create_pop_df(part33)"
   ]
  },
  {
   "cell_type": "code",
   "execution_count": null,   "id": "8447357e",
   "metadata": {},
   "outputs": [],
   "source": [
    "part43 = lime.load_survey(\"Participant 3/participant3_part2.csv\")\n",
    "part43 = lime.process_labels(part43)\n",
    "part43, gold43 = lime.extract_gold(part43,4)\n",
    "final43 = lime.create_pop_df(part43)"
   ]
  },
  {
   "cell_type": "code",
   "execution_count": null,   "id": "6f5de97b",
   "metadata": {},
   "outputs": [],
   "source": [
    "final3 = pd.concat([final33, final43])"
   ]
  },
  {
   "cell_type": "code",
   "execution_count": null,   "id": "06dbb0b7",
   "metadata": {},
   "outputs": [
    {
     "name": "stdout",
     "output_type": "stream",
     "text": [
      "The participant labelled 109 as Anti-Elitism\n",
      "The participant labelled 22 as People-Centrism\n",
      "The participant labelled 7 as People-Sovereignty\n",
      "The participant labelled 116 as populist in total\n"
     ]
    }
   ],
   "source": [
    "lime.pop_stats(final3)"
   ]
  },
  {
   "cell_type": "markdown",
   "id": "85ffa98f",
   "metadata": {},
   "source": [
    "## Participant 4 (Parts 5-6)"
   ]
  },
  {
   "cell_type": "code",
   "execution_count": null,   "id": "0bfd4af1",
   "metadata": {},
   "outputs": [],
   "source": [
    "part54 = lime.load_survey(\"Participant 4/participant4_part1.csv\")\n",
    "part54 = lime.process_labels(part54)\n",
    "part54, gold54 = lime.extract_gold(part54,5)\n",
    "final54 = lime.create_pop_df(part54)"
   ]
  },
  {
   "cell_type": "code",
   "execution_count": null,   "id": "d42b8902",
   "metadata": {},
   "outputs": [],
   "source": [
    "part64 = lime.load_survey(\"Participant 4/participant4_part2.csv\")\n",
    "part64, gold64 = lime.extract_gold(part64,6)\n",
    "part64 = lime.process_labels(part64)\n",
    "final64 = lime.create_pop_df(part64)"
   ]
  },
  {
   "cell_type": "code",
   "execution_count": null,   "id": "7a455ac6",
   "metadata": {},
   "outputs": [],
   "source": [
    "final4 = pd.concat([final54, final64])"
   ]
  },
  {
   "cell_type": "code",
   "execution_count": null,   "id": "c28ebd08",
   "metadata": {
    "scrolled": true
   },
   "outputs": [
    {
     "name": "stdout",
     "output_type": "stream",
     "text": [
      "The participant labelled 104 as Anti-Elitism\n",
      "The participant labelled 14 as People-Centrism\n",
      "The participant labelled 9 as People-Sovereignty\n",
      "The participant labelled 114 as populist in total\n"
     ]
    }
   ],
   "source": [
    "lime.pop_stats(final4)"
   ]
  },
  {
   "cell_type": "markdown",
   "id": "b1b64f1e",
   "metadata": {},
   "source": [
    "## Agreement"
   ]
  },
  {
   "cell_type": "code",
   "execution_count": null,   "id": "ab7676df",
   "metadata": {},
   "outputs": [],
   "source": [
    "#get all gold labels\n",
    "gold = pd.concat([lime.process_labels(gold11),lime.process_labels(gold12),lime.process_labels(gold21),lime.process_labels(gold22),lime.process_labels(gold31),lime.process_labels(gold33),lime.process_labels(gold41),lime.process_labels(gold43),lime.process_labels(gold51),lime.process_labels(gold54),lime.process_labels(gold61),lime.process_labels(gold64)])\n",
    "gold = gold.loc[gold['Contains']== 'Yes'].sort_values(by = 'Question')"
   ]
  },
  {
   "cell_type": "code",
   "execution_count": null,   "id": "3b8ed8f3",
   "metadata": {},
   "outputs": [],
   "source": [
    "#combine the split up sets of participant 2-4\n",
    "finalC = pd.concat([final2,final3,final4])"
   ]
  },
  {
   "cell_type": "code",
   "execution_count": null,   "id": "43eece20",
   "metadata": {},
   "outputs": [],
   "source": [
    "#create a dataframe that includes all labels given to each comment (final data frame)\n",
    "all_labels = lime.all_labels(finalA, final1, finalC)"
   ]
  },
  {
   "cell_type": "code",
   "execution_count": null,   "id": "1e871b83",
   "metadata": {},
   "outputs": [
    {
     "name": "stdout",
     "output_type": "stream",
     "text": [
      "The agreement on Anti-Elitism between the participants has an alpha value of:0.7938104736038024\n",
      "The agreement on People-Centrism between the participants has an alpha value of:0.5433715311233533\n",
      "The agreement on People-Sovereignty between the has an alpha value of:0.7241342306572028\n",
      "The total agreement between the participants has an alpha value of:0.7874112321002447\n"
     ]
    }
   ],
   "source": [
    "#compute agreement over the whole set\n",
    "lime.alpha2(finalA, final1, finalC)"
   ]
  },
  {
   "cell_type": "code",
   "execution_count": null,   "id": "ba798fc8",
   "metadata": {},
   "outputs": [
    {
     "name": "stdout",
     "output_type": "stream",
     "text": [
      "There are 297 populist comments in total\n"
     ]
    }
   ],
   "source": [
    "#create final data set\n",
    "final = lime.majority(finalA,final1,finalC).reset_index()\n",
    "lime.pop_stat(final)"
   ]
  },
  {
   "cell_type": "code",
   "execution_count": null,   "id": "226f585c",
   "metadata": {},
   "outputs": [],
   "source": [
    "motives = lime.majority_all(finalA, final1, finalC)"
   ]
  },
  {
   "cell_type": "code",
   "execution_count": null,   "id": "033fb947",
   "metadata": {},
   "outputs": [
    {
     "data": {
      "text/plain": [
       "271"
      ]
     },
     "execution_count": null,     "metadata": {},
     "output_type": "execute_result"
    }
   ],
   "source": [
    "sum(motives['Final Anti'])\n"
   ]
  },
  {
   "cell_type": "code",
   "execution_count": null,   "id": "dc122822",
   "metadata": {},
   "outputs": [
    {
     "data": {
      "text/plain": [
       "47"
      ]
     },
     "execution_count": null,     "metadata": {},
     "output_type": "execute_result"
    }
   ],
   "source": [
    "sum(motives['Final Cent'])"
   ]
  },
  {
   "cell_type": "code",
   "execution_count": null,   "id": "d2631e58",
   "metadata": {},
   "outputs": [
    {
     "data": {
      "text/plain": [
       "22"
      ]
     },
     "execution_count": null,     "metadata": {},
     "output_type": "execute_result"
    }
   ],
   "source": [
    "sum(motives['Final Sov'])"
   ]
  },
  {
   "cell_type": "code",
   "execution_count": null,   "id": "bc7e238e",
   "metadata": {},
   "outputs": [],
   "source": [
    "#append majority vote label\n",
    "all_labels['Populism'] = final['Final Label']\n",
    "all_labels.to_csv('../data/gold/popaut_sample.csv', index=False)"
   ]
  },
  {
   "cell_type": "code",
   "execution_count": null,
   "id": "221e2fb4",
   "metadata": {},
   "outputs": [],
   "source": [
    "#create gold label data set for the populism label only\n",
    "gold_labels = pd.read_csv('../data/annotation_sample.csv',header=None, index_col=0,names=['ID_Posting','Comment']).reset_index()\n",
    "gold_labels = gold_labels[['ID_Posting','Comment']]\n",
    "gold_labels['Final Label'] = final['Final Label']\n",
    "gold_labels.to_csv('../data/gold/gold_sample.csv',header=False)"
   ]
  }
 ],
 "metadata": {
  "kernelspec": {
   "display_name": "popaut",
   "language": "python",
   "name": "popaut"
  },
  "language_info": {
   "codemirror_mode": {
    "name": "ipython",
    "version": 3
   },
   "file_extension": ".py",
   "mimetype": "text/x-python",
   "name": "python",
   "nbconvert_exporter": "python",
   "pygments_lexer": "ipython3",
   "version": "3.10.9"
  },
  "vscode": {
   "interpreter": {
    "hash": "3fcbd7240ee8f908d933dc7f71e8c42a1a91163b70ede8dcff5146d4087436c7"
   }
  }
 },
 "nbformat": 4,
 "nbformat_minor": 5
}
