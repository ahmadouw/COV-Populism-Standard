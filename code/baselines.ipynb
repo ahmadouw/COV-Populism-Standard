{
 "cells": [
  {
   "cell_type": "code",
   "execution_count": 1,
   "id": "889a6f5b",
   "metadata": {},
   "outputs": [],
   "source": [
    "import pandas as pd\n",
    "import numpy as np\n",
    "import data_preparation as prep\n",
    "import baseline_models as bas\n",
    "from helper_functions import *\n",
    "import warnings\n",
    "warnings.filterwarnings(\"ignore\")"
   ]
  },
  {
   "cell_type": "code",
   "execution_count": 2,
   "id": "d2587cc4",
   "metadata": {},
   "outputs": [],
   "source": [
    "#set random seed and load data\n",
    "seed = 1337\n",
    "pop_covid = read_covid()\n",
    "pop_non_covid = read_non_covid()\n",
    "pop_non_covid.columns.values[4] = 'ID_Posting'\n",
    "pop_reference = read_reference()\n",
    "pop_reference.columns.values[4] = 'ID_Posting'\n",
    "#remove repetitive comments found in the sampling process\n",
    "pop_reference = pop_reference.loc[pop_reference['Score']<7]\n",
    "pop_non_covid = pop_non_covid.loc[pop_non_covid['Score']<9]"
   ]
  },
  {
   "cell_type": "code",
   "execution_count": 3,
   "id": "2d8ebb7a",
   "metadata": {},
   "outputs": [],
   "source": [
    "gold_sample = pd.read_csv('../data/gold/gold_sample.csv', header = None, index_col= 0)\n",
    "gold_sample.columns = ['ID_Posting', 'Comment','Label']\n",
    "dict_gold_covid =pop_covid[pop_covid['ID_Posting'].isin(list(gold_sample['ID_Posting']))]\n",
    "dict_gold_non_covid = pop_non_covid[pop_non_covid['ID_Posting'].isin(list(gold_sample['ID_Posting']))]\n",
    "dict_gold_reference = pop_reference[pop_reference['ID_Posting'].isin(list(gold_sample['ID_Posting']))]\n",
    "dict_gold_full = pd.concat([dict_gold_covid,dict_gold_non_covid,dict_gold_reference])"
   ]
  },
  {
   "cell_type": "code",
   "execution_count": 4,
   "id": "c89a131c",
   "metadata": {},
   "outputs": [
    {
     "name": "stdout",
     "output_type": "stream",
     "text": [
      "800\n",
      "200\n",
      "There are 198 populist comments.\n",
      "There are 49 populist comments.\n",
      "There are 49 populist comments.\n",
      "There are 149 populist comments.\n",
      "There are 148 populist comments.\n"
     ]
    }
   ],
   "source": [
    "#split the gold_sample into train, validation and test sets and save them for later use\n",
    "train800, val200, test200 =  prep.strat_train_val_test(gold_sample)\n",
    "count_labels(train800)\n",
    "count_labels(test200)\n",
    "count_labels(test200)\n",
    "\n",
    "train800.to_csv('../data/gold/train800.csv', index = False)\n",
    "val200.to_csv('../data/gold/val200.csv', index = False)\n",
    "test200.to_csv('../data/gold/test200.csv', index = False)"
   ]
  },
  {
   "cell_type": "markdown",
   "id": "b38023ac",
   "metadata": {},
   "source": [
    "## Hawkins and Castanho Silva 2016"
   ]
  },
  {
   "cell_type": "markdown",
   "id": "00b37044",
   "metadata": {},
   "source": [
    "### Preprocessing"
   ]
  },
  {
   "cell_type": "code",
   "execution_count": 17,
   "id": "43c1b416",
   "metadata": {},
   "outputs": [],
   "source": [
    "#create the document-term matrix \n",
    "process800 = pd.concat([train800, test200]).reset_index()\n",
    "process800['Processed'] = prep.preprocess_hawkins(process800['Comment'])\n",
    "process800 = process800[['ID_Posting','Comment','Label','Processed']]\n",
    "matrix800 = prep.doc_term_matrix(process800['Processed'])\n",
    "train_matrix800 = matrix800[:len(train800)] \n",
    "test_matrix800 = matrix800[len(train800):]"
   ]
  },
  {
   "cell_type": "code",
   "execution_count": null,
   "id": "dad5aa34",
   "metadata": {},
   "outputs": [],
   "source": [
    "#search for the optimal parameter setting of the elastic net model\n",
    "score800, params800 = bas.param_tuning_elastic(train_matrix800, train800['Label'], np.logspace(-5,2,num=8), [0.2,0.4,0.6,0.8], 5)\n",
    "print(score800)"
   ]
  },
  {
   "cell_type": "code",
   "execution_count": 22,
   "id": "1353263a",
   "metadata": {},
   "outputs": [],
   "source": [
    "best_model800 = bas.elastic_net(params800['alpha'], params800['l1_ratio'])\n",
    "best_model800 = bas.fit_model(best_model800, train_matrix800, train800['Label'])"
   ]
  },
  {
   "cell_type": "code",
   "execution_count": 24,
   "id": "2528da18",
   "metadata": {},
   "outputs": [
    {
     "name": "stdout",
     "output_type": "stream",
     "text": [
      "The model reaches a recall of:0.3877551020408163\n",
      "The model reaches a precision of:0.5428571428571428\n",
      "The model reaches a F1-Score of:0.4523809523809524\n",
      "The model reaches an accuracy of:0.77\n"
     ]
    }
   ],
   "source": [
    "pred800 = bas.predict(best_model800, test_matrix800)\n",
    "bas.eval_metrics(test200['Label'],pred800)"
   ]
  },
  {
   "cell_type": "markdown",
   "id": "a6bf06b8",
   "metadata": {},
   "source": [
    "## Gründl 2020"
   ]
  },
  {
   "cell_type": "code",
   "execution_count": 25,
   "id": "dcf79415",
   "metadata": {},
   "outputs": [],
   "source": [
    "#create two data sets with populism labels; one where one dictionary terms leads to a populism label and one where two terms are needed\n",
    "dict_one = dict_gold_full.copy()\n",
    "dict_one['Score'][dict_one['Score']>0] = 1\n",
    "dict_two = dict_gold_full.copy()\n",
    "dict_two['Score'][dict_two['Score']<2] = 0\n",
    "dict_two['Score'][dict_two['Score']>1] = 1"
   ]
  },
  {
   "cell_type": "code",
   "execution_count": 26,
   "id": "a45f69fc",
   "metadata": {},
   "outputs": [],
   "source": [
    "gruendl_eval_one200 = test200.merge(dict_one, on = 'ID_Posting')\n",
    "gruendl_eval_two200 = test200.merge(dict_two, on = 'ID_Posting')"
   ]
  },
  {
   "cell_type": "code",
   "execution_count": null,
   "id": "dd01b2be",
   "metadata": {},
   "outputs": [
    {
     "name": "stdout",
     "output_type": "stream",
     "text": [
      "The model reaches a recall of:0.88\n",
      "The model reaches a precision of:0.44\n",
      "The model reaches a F1-Score of:0.5866666666666667\n",
      "The model reaches an accuracy of:0.69\n"
     ]
    }
   ],
   "source": [
    "#evaluate the gruendl dictionary with a score of one\n",
    "bas.eval_metrics(gruendl_eval_one200['Label'],gruendl_eval_one200['Score'])"
   ]
  },
  {
   "cell_type": "code",
   "execution_count": 49,
   "id": "fd8cacb5",
   "metadata": {},
   "outputs": [
    {
     "name": "stdout",
     "output_type": "stream",
     "text": [
      "109\n",
      "107\n"
     ]
    }
   ],
   "source": [
    "print(sum(gruendl_eval_one200['Score']))\n",
    "print(sum(gruendl_eval_two200['Score']))"
   ]
  },
  {
   "cell_type": "code",
   "execution_count": null,
   "id": "ac9f0aad",
   "metadata": {},
   "outputs": [
    {
     "name": "stdout",
     "output_type": "stream",
     "text": [
      "The model reaches a recall of:0.88\n",
      "The model reaches a precision of:0.4489795918367347\n",
      "The model reaches a F1-Score of:0.5945945945945946\n",
      "The model reaches an accuracy of:0.7\n"
     ]
    }
   ],
   "source": [
    "#evaluate the gruendl dictionary with a score of two\n",
    "bas.eval_metrics(gruendl_eval_two200['Label'],gruendl_eval_two200['Score'])"
   ]
  },
  {
   "cell_type": "markdown",
   "id": "0b8c01bd",
   "metadata": {},
   "source": [
    "## Rooduijn and Pauwels 2011"
   ]
  },
  {
   "cell_type": "code",
   "execution_count": 46,
   "id": "f748fae0",
   "metadata": {},
   "outputs": [],
   "source": [
    "#use the german version of the  RP dictionary to create populism labels with a dictionary score of two\n",
    "rood_dict_ger = ['elit', 'konsens', 'undemokratisch', 'referend', 'korrupt', 'propagand', 'politiker', 'täusch', 'betrüg', 'betrug', 'verrat', 'scham', 'schäm', 'skandal', 'wahrheit', 'unfair', 'unehrlich', 'establishm', 'herrsch', 'lüge']\n",
    "def check_dict2(df):\n",
    "    dict_score = df.copy()\n",
    "    dict_score['Count'] = 0\n",
    "    for index, row in dict_score.iterrows():\n",
    "        count = 0\n",
    "        comment = row['Comment']\n",
    "        comment = comment.lower()\n",
    "        for x in rood_dict_ger:\n",
    "            count = count + comment.count(x)\n",
    "\n",
    "        dict_score.at[index,'Count'] = count\n",
    "    dict_score['Label'].loc[dict_score['Count'] > 1] = 1\n",
    "    dict_score['Label'].loc[dict_score['Count'] < 2] = 0\n",
    "    dict_score['Label'] = dict_score['Label'].astype(int)\n",
    "    return dict_score\n",
    "rood_score_two200 = check_dict2(test200)"
   ]
  },
  {
   "cell_type": "code",
   "execution_count": 48,
   "id": "bcaee494",
   "metadata": {},
   "outputs": [
    {
     "name": "stdout",
     "output_type": "stream",
     "text": [
      "The model reaches a recall of:0.2653061224489796\n",
      "The model reaches a precision of:0.5416666666666666\n",
      "The model reaches a F1-Score of:0.35616438356164387\n",
      "The model reaches an accuracy of:0.765\n"
     ]
    }
   ],
   "source": [
    "#evaluation for the dictionary score of two\n",
    "bas.eval_metrics(test200['Label'], rood_score_two200['Label'].astype(int))"
   ]
  },
  {
   "cell_type": "code",
   "execution_count": 47,
   "id": "b101788a",
   "metadata": {},
   "outputs": [
    {
     "name": "stdout",
     "output_type": "stream",
     "text": [
      "The model reaches a recall of:0.5102040816326531\n",
      "The model reaches a precision of:0.5319148936170213\n",
      "The model reaches a F1-Score of:0.5208333333333334\n",
      "The model reaches an accuracy of:0.77\n"
     ]
    }
   ],
   "source": [
    "#create labels for a dictionary score of one\n",
    "rood_score_ger200 = bas.check_dict(test200)\n",
    "bas.eval_metrics(test200['Label'], rood_score_ger200['Label'].astype(int))"
   ]
  }
 ],
 "metadata": {
  "interpreter": {
   "hash": "8af634696c0e199b60ec7a55230a896342180e790ec00540287bfd386994fd7b"
  },
  "kernelspec": {
   "display_name": "popaut",
   "language": "python",
   "name": "popaut"
  },
  "language_info": {
   "codemirror_mode": {
    "name": "ipython",
    "version": 3
   },
   "file_extension": ".py",
   "mimetype": "text/x-python",
   "name": "python",
   "nbconvert_exporter": "python",
   "pygments_lexer": "ipython3",
   "version": "3.10.9"
  }
 },
 "nbformat": 4,
 "nbformat_minor": 5
}
