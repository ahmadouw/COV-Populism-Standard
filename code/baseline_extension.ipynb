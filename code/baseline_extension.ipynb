{
 "cells": [
  {
   "cell_type": "code",
   "execution_count": 1,
   "metadata": {},
   "outputs": [],
   "source": [
    "import re\n",
    "import sklearn\n",
    "import pandas as pd\n",
    "import numpy as np\n",
    "\n",
    "import nltk \n",
    "\n",
    "from pathlib import Path\n",
    "\n",
    "from sklearn.feature_extraction.text import TfidfVectorizer\n",
    "from sklearn.linear_model import LogisticRegression\n",
    "from sklearn.svm import LinearSVC\n",
    "from sklearn.ensemble import RandomForestClassifier\n",
    "from nltk.stem.snowball import SnowballStemmer\n",
    "from nltk.tokenize import word_tokenize\n",
    "from nltk.corpus import stopwords\n",
    "import warnings\n",
    "warnings.filterwarnings(\"ignore\")"
   ]
  },
  {
   "cell_type": "code",
   "execution_count": null,
   "metadata": {},
   "outputs": [],
   "source": [
    "nltk.download('punkt')\n",
    "nltk.download('stopwords')\n",
    "#clean the data to apply baseline algorithms\n",
    "stemmer = SnowballStemmer(\"german\")\n",
    "stop_words = set(stopwords.words(\"german\"))\n",
    "\n",
    "\n",
    "def clean_text(text):\n",
    "    white_space = re.compile(r\"\\s+\", re.IGNORECASE)\n",
    "    tags = re.compile(r\"<[^>]+>\")\n",
    "    ascii = re.compile(r\"[^A-Za-zÀ-ž ]\", re.IGNORECASE)\n",
    "    single_char = re.compile(r\"\\b[A-Za-zÀ-ž]\\b\", re.IGNORECASE)\n",
    "\n",
    "    text = re.sub(tags, \" \", text)\n",
    "    text = re.sub(ascii, \" \", text)\n",
    "    text = re.sub(single_char, \" \", text)\n",
    "    text = re.sub(white_space, \" \", text)\n",
    "\n",
    "    word_tokens = word_tokenize(text)\n",
    "    words_tokens_lower = [word.lower() for word in word_tokens]\n",
    "\n",
    "\n",
    "    words_filtered = [\n",
    "            stemmer.stem(word) for word in words_tokens_lower if word not in stop_words\n",
    "    ]\n",
    "\n",
    "    text_clean = \" \".join(words_filtered)\n",
    "    return text_clean"
   ]
  },
  {
   "cell_type": "code",
   "execution_count": 3,
   "metadata": {},
   "outputs": [],
   "source": [
    "train = pd.read_csv('../data/gold/train800.csv')\n",
    "test = pd.read_csv('../data/gold/test200.csv')"
   ]
  },
  {
   "cell_type": "code",
   "execution_count": 4,
   "metadata": {},
   "outputs": [],
   "source": [
    "train[\"comment_clean\"] = train.loc[train[\"Comment\"].str.len() > 10, \"Comment\"]\n",
    "train[\"comment_clean\"] = train[\"comment_clean\"].map(\n",
    "    lambda x: clean_text(x) if isinstance(x, str) else x\n",
    ")\n",
    "\n",
    "test[\"comment_clean\"] = test.loc[test[\"Comment\"].str.len() > 10, \"Comment\"]\n",
    "test[\"comment_clean\"] = test[\"comment_clean\"].map(\n",
    "    lambda x: clean_text(x) if isinstance(x, str) else x\n",
    ")"
   ]
  },
  {
   "cell_type": "code",
   "execution_count": null,
   "metadata": {},
   "outputs": [],
   "source": [
    "#create td-if matrix\n",
    "temp = pd.concat([train,test])\n",
    "vectorizer = TfidfVectorizer(\n",
    "    analyzer=\"word\", max_df=0.3, min_df=10, ngram_range=(1, 2), norm=\"l2\"\n",
    ")\n",
    "vectorizer.fit(temp[\"comment_clean\"])"
   ]
  },
  {
   "cell_type": "code",
   "execution_count": 6,
   "metadata": {},
   "outputs": [
    {
     "name": "stdout",
     "output_type": "stream",
     "text": [
      "(800,)\n",
      "(200,)\n"
     ]
    },
    {
     "data": {
      "text/plain": [
       "(800, 454)"
      ]
     },
     "execution_count": 6,
     "metadata": {},
     "output_type": "execute_result"
    }
   ],
   "source": [
    "X_train = train[\"comment_clean\"]\n",
    "Y_train = train[\"Label\"]\n",
    "X_test = test[\"comment_clean\"]\n",
    "Y_test = test[\"Label\"]\n",
    "print(X_train.shape)\n",
    "print(X_test.shape)\n",
    "X_train_vec = vectorizer.transform(X_train)\n",
    "X_test_vec = vectorizer.transform(X_test)\n",
    "X_train_vec.get_shape()"
   ]
  },
  {
   "cell_type": "code",
   "execution_count": 7,
   "metadata": {},
   "outputs": [
    {
     "name": "stdout",
     "output_type": "stream",
     "text": [
      "Classifiers to test: ['LogisticRegression', 'LinearSVC', 'RandomForestClassifier']\n"
     ]
    }
   ],
   "source": [
    "#initiate baseline classifiers\n",
    "classifiers = [\n",
    "    LogisticRegression(solver=\"sag\", random_state=1),\n",
    "    LinearSVC(random_state=1),\n",
    "    RandomForestClassifier(random_state=1)\n",
    "]\n",
    "names = [re.match(r\"[^\\(]+\", name.__str__())[0] for name in classifiers]\n",
    "print(f\"Classifiers to test: {names}\")"
   ]
  },
  {
   "cell_type": "code",
   "execution_count": 8,
   "metadata": {},
   "outputs": [
    {
     "name": "stdout",
     "output_type": "stream",
     "text": [
      "Training classifier: LogisticRegression\n",
      "Training classifier: LinearSVC\n",
      "Training classifier: RandomForestClassifier\n"
     ]
    }
   ],
   "source": [
    "#train and evaluate baseline models\n",
    "results = {}\n",
    "for name, clf in zip(names, classifiers):\n",
    "    print(f\"Training classifier: {name}\")\n",
    "    clf.fit(X_train_vec, Y_train)\n",
    "    prediction = clf.predict(X_test_vec)\n",
    "    report = sklearn.metrics.classification_report(Y_test, prediction)\n",
    "    results[name] = report"
   ]
  },
  {
   "cell_type": "code",
   "execution_count": 9,
   "metadata": {},
   "outputs": [
    {
     "name": "stdout",
     "output_type": "stream",
     "text": [
      "Results for LogisticRegression:\n",
      "              precision    recall  f1-score   support\n",
      "\n",
      "           0       0.80      0.99      0.88       151\n",
      "           1       0.92      0.22      0.36        49\n",
      "\n",
      "    accuracy                           0.81       200\n",
      "   macro avg       0.86      0.61      0.62       200\n",
      "weighted avg       0.83      0.81      0.76       200\n",
      "\n",
      "\n",
      "Results for LinearSVC:\n",
      "              precision    recall  f1-score   support\n",
      "\n",
      "           0       0.80      0.87      0.84       151\n",
      "           1       0.46      0.33      0.38        49\n",
      "\n",
      "    accuracy                           0.74       200\n",
      "   macro avg       0.63      0.60      0.61       200\n",
      "weighted avg       0.72      0.74      0.72       200\n",
      "\n",
      "\n",
      "Results for RandomForestClassifier:\n",
      "              precision    recall  f1-score   support\n",
      "\n",
      "           0       0.79      0.95      0.86       151\n",
      "           1       0.58      0.22      0.32        49\n",
      "\n",
      "    accuracy                           0.77       200\n",
      "   macro avg       0.68      0.59      0.59       200\n",
      "weighted avg       0.74      0.77      0.73       200\n",
      "\n",
      "\n"
     ]
    }
   ],
   "source": [
    "for k, v in results.items():\n",
    "    print(f\"Results for {k}:\")\n",
    "    print(f\"{v}\\n\")"
   ]
  }
 ],
 "metadata": {
  "interpreter": {
   "hash": "8af634696c0e199b60ec7a55230a896342180e790ec00540287bfd386994fd7b"
  },
  "kernelspec": {
   "display_name": "popaut",
   "language": "python",
   "name": "popaut"
  },
  "language_info": {
   "codemirror_mode": {
    "name": "ipython",
    "version": 3
   },
   "file_extension": ".py",
   "mimetype": "text/x-python",
   "name": "python",
   "nbconvert_exporter": "python",
   "pygments_lexer": "ipython3",
   "version": "3.10.9"
  },
  "orig_nbformat": 4,
  "vscode": {
   "interpreter": {
    "hash": "2043299c89c8cd0b4d1a6f5cf4529bd58e6a4e0fe3181a25e0d328c821cdc5c5"
   }
  }
 },
 "nbformat": 4,
 "nbformat_minor": 2
}
