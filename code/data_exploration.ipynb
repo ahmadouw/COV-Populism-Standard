{
 "cells": [
  {
   "cell_type": "code",
   "execution_count": 1,
   "id": "889a6f5b",
   "metadata": {},
   "outputs": [],
   "source": [
    "import pandas as pd\n",
    "from scipy import stats\n",
    "from ast import literal_eval\n",
    "from helper_functions import *\n",
    "import warnings\n",
    "warnings.filterwarnings('ignore')"
   ]
  },
  {
   "cell_type": "code",
   "execution_count": 2,
   "id": "d2587cc4",
   "metadata": {},
   "outputs": [],
   "source": [
    "comments_2020 = read_2020()\n",
    "comments_2019 = read_2019()"
   ]
  },
  {
   "cell_type": "code",
   "execution_count": 3,
   "id": "5cce1011",
   "metadata": {},
   "outputs": [],
   "source": [
    "keywords = pd.read_csv('../data/keyword_articles.csv')\n",
    "keywords = keywords.drop(keywords.columns[[0,2]], axis=1)"
   ]
  },
  {
   "cell_type": "code",
   "execution_count": 4,
   "id": "09e9c340",
   "metadata": {},
   "outputs": [
    {
     "name": "stdout",
     "output_type": "stream",
     "text": [
      "Total amount of comments: 32149044\n",
      "Amount of NaN-comments: 992700\n"
     ]
    }
   ],
   "source": [
    "#amount of total and empty comments posted in 2020\n",
    "total(comments_2020)"
   ]
  },
  {
   "cell_type": "code",
   "execution_count": 5,
   "id": "8b9f7019",
   "metadata": {},
   "outputs": [
    {
     "name": "stdout",
     "output_type": "stream",
     "text": [
      "88680\n"
     ]
    }
   ],
   "source": [
    "#number of articles 2020\n",
    "print(len(pd.unique(comments_2020['ID_GodotObject'])))"
   ]
  },
  {
   "cell_type": "code",
   "execution_count": 6,
   "id": "f7925903",
   "metadata": {},
   "outputs": [
    {
     "name": "stdout",
     "output_type": "stream",
     "text": [
      "56509\n"
     ]
    }
   ],
   "source": [
    "#number of articles 2019\n",
    "print(len(pd.unique(comments_2019['ID_GodotObject'])))"
   ]
  },
  {
   "cell_type": "code",
   "execution_count": 7,
   "id": "41d54aa5",
   "metadata": {},
   "outputs": [
    {
     "name": "stdout",
     "output_type": "stream",
     "text": [
      "Total amount of comments: 10410491\n",
      "Amount of NaN-comments: 453541\n"
     ]
    }
   ],
   "source": [
    "#amount of total and empty comments posted in 2020\n",
    "total(comments_2019)"
   ]
  },
  {
   "cell_type": "markdown",
   "id": "b0947ae2",
   "metadata": {},
   "source": [
    "## Extract COVID-19 related articles"
   ]
  },
  {
   "cell_type": "code",
   "execution_count": 8,
   "id": "4be8c821",
   "metadata": {},
   "outputs": [],
   "source": [
    "#combine the comments with the respective keywords\n",
    "merged_2020 = pd.merge(comments_2020,keywords)"
   ]
  },
  {
   "cell_type": "code",
   "execution_count": 9,
   "id": "12efdae3",
   "metadata": {},
   "outputs": [
    {
     "name": "stdout",
     "output_type": "stream",
     "text": [
      "Total amount of comments: 31277599\n",
      "Amount of NaN-comments: 970117\n"
     ]
    }
   ],
   "source": [
    "total(merged_2020)"
   ]
  },
  {
   "cell_type": "code",
   "execution_count": 11,
   "id": "4717dc1d",
   "metadata": {},
   "outputs": [],
   "source": [
    "#some articles are not contained in the merged data frame and therefore lack content details or classification\n",
    "#inspect the differences\n",
    "diff = pd.concat([merged_2020.drop([merged_2020.columns[5],merged_2020.columns[6]],axis=1),comments_2020]).drop_duplicates(keep=False)"
   ]
  },
  {
   "cell_type": "code",
   "execution_count": 12,
   "id": "76520f2f",
   "metadata": {},
   "outputs": [],
   "source": [
    "#filter articles with no details\n",
    "no_details = pd.DataFrame(pd.unique(diff['ID_GodotObject']))"
   ]
  },
  {
   "cell_type": "code",
   "execution_count": 14,
   "id": "7a372172",
   "metadata": {},
   "outputs": [],
   "source": [
    "#export for external checks\n",
    "no_details.to_csv('../data/no_details_2020-21.csv')"
   ]
  },
  {
   "cell_type": "code",
   "execution_count": 15,
   "id": "aa51fcf2",
   "metadata": {},
   "outputs": [],
   "source": [
    "#add missing keywords\n",
    "missing_articles = pd.read_csv('../data/missing_articles.csv')"
   ]
  },
  {
   "cell_type": "code",
   "execution_count": 16,
   "id": "d1165cfb",
   "metadata": {},
   "outputs": [],
   "source": [
    "#include reinclude former unclassified comments\n",
    "merged_2020_missing = comments_2020.join(missing_articles,on = 'ID_GodotObject', how='left', rsuffix='other')\n",
    "merged_2020_missing = merged_2020_missing.drop(merged_2020_missing.columns[[5,6,8,9,10,11]], axis=1)\n",
    "merged_2020_missing = merged_2020_missing[~merged_2020_missing['keyword'].isnull()]"
   ]
  },
  {
   "cell_type": "code",
   "execution_count": 17,
   "id": "e93021c2",
   "metadata": {},
   "outputs": [
    {
     "data": {
      "text/plain": [
       "0"
      ]
     },
     "execution_count": 17,
     "metadata": {},
     "output_type": "execute_result"
    }
   ],
   "source": [
    "len(merged_2020_missing)"
   ]
  },
  {
   "cell_type": "code",
   "execution_count": 18,
   "id": "648f51ed",
   "metadata": {},
   "outputs": [],
   "source": [
    "merged_2020_final = pd.concat([merged_2020.reset_index(),merged_2020_missing.reset_index()])\n",
    "merged_2020_final = merged_2020_final.drop(merged_2020_final.columns[0],axis=1)"
   ]
  },
  {
   "cell_type": "code",
   "execution_count": 19,
   "id": "4f527bd2",
   "metadata": {},
   "outputs": [
    {
     "data": {
      "text/plain": [
       "31277599"
      ]
     },
     "execution_count": 19,
     "metadata": {},
     "output_type": "execute_result"
    }
   ],
   "source": [
    "len(merged_2020_final)"
   ]
  },
  {
   "cell_type": "code",
   "execution_count": 20,
   "id": "c8e43b86",
   "metadata": {},
   "outputs": [],
   "source": [
    "#get all keywords to filter COVID related articles\n",
    "#only keep unique articles to reduce computational cost\n",
    "unique_articles = merged_2020_final.drop_duplicates(subset='ID_GodotObject').reset_index(drop=True)\n",
    "unique_articles = unique_articles.loc[unique_articles['keyword'].isna() == False]\n",
    "keys = sorted(set(unique_articles.keyword.apply(literal_eval).sum()))"
   ]
  },
  {
   "cell_type": "code",
   "execution_count": 21,
   "id": "542b36d6",
   "metadata": {},
   "outputs": [
    {
     "name": "stdout",
     "output_type": "stream",
     "text": [
      "There are 64054 different unique keywords.\n"
     ]
    }
   ],
   "source": [
    "print('There are', len(keys), 'different unique keywords.')"
   ]
  },
  {
   "cell_type": "code",
   "execution_count": 22,
   "id": "0d55a241",
   "metadata": {},
   "outputs": [],
   "source": [
    "#filter for COVID-19 related substrings\n",
    "covid_keys = []\n",
    "for i in keys:\n",
    "    if 'Corona' in i or 'corona' in i or 'Covid' in i or 'covid' in i or 'COVID' in i or 'SARS' in i:\n",
    "        covid_keys.append(i)"
   ]
  },
  {
   "cell_type": "code",
   "execution_count": 23,
   "id": "d156e48a",
   "metadata": {},
   "outputs": [
    {
     "data": {
      "text/plain": [
       "['COVID-19',\n",
       " 'Corona-Krise',\n",
       " 'Coronaabsage',\n",
       " 'Coronaaktivismus',\n",
       " 'Coronaauflage',\n",
       " 'Coronabericht',\n",
       " 'Coronabeschränkung',\n",
       " 'Coronabond',\n",
       " 'Coronaboom',\n",
       " 'Coronabudget',\n",
       " 'Coronaeffekt',\n",
       " 'Coronafall',\n",
       " 'Coronafolge',\n",
       " 'Coronafonds',\n",
       " 'Coronaforschung',\n",
       " 'Coronagebet',\n",
       " 'Coronagesetz',\n",
       " 'Coronahilfsgeld',\n",
       " 'Coronaimpfung',\n",
       " 'Coronainfektion',\n",
       " 'Coronainfektionsrisiko',\n",
       " 'Coronainformation',\n",
       " 'Coronajahr',\n",
       " 'Coronalockerung',\n",
       " 'Coronamaßnahme',\n",
       " 'Coronamilieu',\n",
       " 'Coronapause',\n",
       " 'Coronapolitik',\n",
       " 'Coronarabatt',\n",
       " 'Coronarezession',\n",
       " 'Coronarisiko',\n",
       " 'Coronaschock',\n",
       " 'Coronasituation',\n",
       " 'Coronasperre',\n",
       " 'Coronaspielzeit',\n",
       " 'Coronastrategie',\n",
       " 'Coronastufe',\n",
       " 'Coronatest',\n",
       " 'Coronatickercommunity',\n",
       " 'Coronaunterstützung',\n",
       " 'Coronaverbrechen',\n",
       " 'Coronavirenschleuder',\n",
       " 'Coronavirus',\n",
       " 'Coronavirus-Krise',\n",
       " 'Coronavirusbezug',\n",
       " 'Coronavirusfall',\n",
       " 'Coronavirusgebiet',\n",
       " 'Coronavirusinfektion',\n",
       " 'Coronaviruspandemie',\n",
       " 'Coronavorschrift',\n",
       " 'Coronawahn',\n",
       " 'Coronawelle',\n",
       " 'Coronawoche',\n",
       " 'Coronazahl',\n",
       " 'Coronazeit',\n",
       " 'Erkältungscoronavirus',\n",
       " 'SARS',\n",
       " 'SARS-CoV-2']"
      ]
     },
     "execution_count": 23,
     "metadata": {},
     "output_type": "execute_result"
    }
   ],
   "source": [
    "covid_keys"
   ]
  },
  {
   "cell_type": "code",
   "execution_count": 23,
   "id": "f0111d1f",
   "metadata": {},
   "outputs": [
    {
     "name": "stdout",
     "output_type": "stream",
     "text": [
      "There are 58 different keywords containing COVID or a synonym of it.\n"
     ]
    }
   ],
   "source": [
    "print('There are', len(covid_keys), 'different keywords containing COVID or a synonym of it.')"
   ]
  },
  {
   "cell_type": "code",
   "execution_count": 24,
   "id": "a02ae5a2",
   "metadata": {},
   "outputs": [
    {
     "name": "stdout",
     "output_type": "stream",
     "text": [
      "There are 14165 COVID-19 related articles.\n",
      "With 14391704 comments.\n"
     ]
    }
   ],
   "source": [
    "#extract comments under COVID-19 related articles by keyword-list\n",
    "covid_article_ids = unique_articles['ID_GodotObject'].loc[unique_articles['keyword'].apply(lambda x: any(n in x for n in covid_keys))]\n",
    "print('There are', len(covid_article_ids),'COVID-19 related articles.')\n",
    "covid_comments = merged_2020_final.loc[merged_2020_final['ID_GodotObject'].isin(list(covid_article_ids))]\n",
    "print('With',len(covid_comments),'comments.')"
   ]
  },
  {
   "cell_type": "code",
   "execution_count": 25,
   "id": "3db1c2ab",
   "metadata": {},
   "outputs": [
    {
     "name": "stdout",
     "output_type": "stream",
     "text": [
      "The first comment under a COVID-19 related article was posted on 2020-01-06 18:01:55.497\n"
     ]
    }
   ],
   "source": [
    "print('The first comment under a COVID-19 related article was posted on',min(covid_comments['createdAt']))"
   ]
  },
  {
   "cell_type": "code",
   "execution_count": 26,
   "id": "e0987c5d",
   "metadata": {},
   "outputs": [
    {
     "name": "stdout",
     "output_type": "stream",
     "text": [
      "There are 16885895 comments under non-COVID-19 articles.\n"
     ]
    }
   ],
   "source": [
    "#extract non-COVID-19 related articles\n",
    "non_covid_comments = merged_2020_final.loc[merged_2020_final['ID_GodotObject'].isin(list(covid_article_ids))==False]\n",
    "print('There are',len(non_covid_comments),'comments under non-COVID-19 articles.')"
   ]
  },
  {
   "cell_type": "markdown",
   "id": "a47793da",
   "metadata": {},
   "source": [
    "## Data Exploration (01/2020-11/2021; all articles)"
   ]
  },
  {
   "cell_type": "code",
   "execution_count": 27,
   "id": "550d8915",
   "metadata": {
    "scrolled": true
   },
   "outputs": [
    {
     "name": "stdout",
     "output_type": "stream",
     "text": [
      "There are 30169027 non-empty comments.\n"
     ]
    }
   ],
   "source": [
    "merged_2020_final = merged_2020_final.loc[merged_2020_final[\"Comment\"].isna()==False]\n",
    "#remove all comments posted before the first COVID-related comment\n",
    "merged_2020_final = merged_2020_final.loc[merged_2020_final['createdAt']>min(covid_comments['createdAt'])]\n",
    "print('There are',len(merged_2020_final),'non-empty comments.')"
   ]
  },
  {
   "cell_type": "code",
   "execution_count": 28,
   "id": "1a9a1842",
   "metadata": {},
   "outputs": [],
   "source": [
    "#get value counts of unique users and articles\n",
    "count_user = merged_2020_final['ID_CommunityIdentity'].value_counts()\n",
    "count_article = merged_2020_final['ID_GodotObject'].value_counts()"
   ]
  },
  {
   "cell_type": "code",
   "execution_count": 29,
   "id": "f2c6bd2b",
   "metadata": {},
   "outputs": [
    {
     "name": "stdout",
     "output_type": "stream",
     "text": [
      "Number of unique users: 93513\n",
      "Mean comments per user: 322.61853432143124\n",
      "With a standard deviation of: 1716.8779245272572\n",
      "Number of unique articles: 82777\n",
      "Mean comments per article: 364.46146876547834\n",
      "With a standard deviation of: 1797.3214509727882\n"
     ]
    }
   ],
   "source": [
    "stats(merged_2020_final,count_user,count_article)"
   ]
  },
  {
   "cell_type": "code",
   "execution_count": 30,
   "id": "ee67053e",
   "metadata": {
    "scrolled": true
   },
   "outputs": [
    {
     "data": {
      "text/plain": [
       "5860.0"
      ]
     },
     "execution_count": 30,
     "metadata": {},
     "output_type": "execute_result"
    }
   ],
   "source": [
    "count_user.quantile(0.99)"
   ]
  },
  {
   "cell_type": "code",
   "execution_count": 31,
   "id": "203699b8",
   "metadata": {},
   "outputs": [
    {
     "data": {
      "text/plain": [
       "3647.080000000089"
      ]
     },
     "execution_count": 31,
     "metadata": {},
     "output_type": "execute_result"
    }
   ],
   "source": [
    "count_article.quantile(0.99)"
   ]
  },
  {
   "cell_type": "code",
   "execution_count": 125,
   "id": "200a0567",
   "metadata": {},
   "outputs": [
    {
     "name": "stdout",
     "output_type": "stream",
     "text": [
      "Maximum number of characters: 1496\n",
      "Minimum number of characters: 1\n",
      "Mean number of characters: 159.42050524201525\n",
      "Maximum number of words: 591\n",
      "Minimum number of words: 1\n",
      "Mean number of words: 23.554723790064557\n",
      "Amount of comments with exactly one word: 1353139\n"
     ]
    }
   ],
   "source": [
    "text_stats(merged_2020_final)"
   ]
  },
  {
   "cell_type": "code",
   "execution_count": 126,
   "id": "04bd1427",
   "metadata": {},
   "outputs": [],
   "source": [
    "#count words per comment and store it into a new colum\n",
    "merged_2020_final['Word Count'] = merged_2020_final['Comment'].str.count(' ').add(1)"
   ]
  },
  {
   "cell_type": "code",
   "execution_count": 127,
   "id": "25fd8cc4",
   "metadata": {},
   "outputs": [],
   "source": [
    "#calculate 0.99 quantile to remove overtly long comments \n",
    "merged_quantile = merged_2020_final['Word Count'].quantile(0.99)"
   ]
  },
  {
   "cell_type": "code",
   "execution_count": 128,
   "id": "6404a4a3",
   "metadata": {},
   "outputs": [
    {
     "data": {
      "text/plain": [
       "110.0"
      ]
     },
     "execution_count": 128,
     "metadata": {},
     "output_type": "execute_result"
    }
   ],
   "source": [
    "merged_quantile"
   ]
  },
  {
   "cell_type": "code",
   "execution_count": 32,
   "id": "81e09c6e",
   "metadata": {},
   "outputs": [
    {
     "data": {
      "text/plain": [
       "array([[<AxesSubplot: title={'center': 'Word Count'}>]], dtype=object)"
      ]
     },
     "execution_count": 32,
     "metadata": {},
     "output_type": "execute_result"
    },
    {
     "data": {
      "image/png": "[encoded data removed]",
      "text/plain": [
       "<Figure size 640x480 with 1 Axes>"
      ]
     },
     "metadata": {},
     "output_type": "display_data"
    }
   ],
   "source": [
    "merged_2020_final[merged_2020_final['Word Count']<merged_quantile].hist(column='Word Count')"
   ]
  },
  {
   "cell_type": "markdown",
   "id": "bf01a1b6",
   "metadata": {},
   "source": [
    "## Data Exploration (01/2020-11/2021; COVID-19 articles)"
   ]
  },
  {
   "cell_type": "code",
   "execution_count": 32,
   "id": "75b75b3e",
   "metadata": {},
   "outputs": [
    {
     "name": "stdout",
     "output_type": "stream",
     "text": [
      "There are 14016469 non-empty comments.\n"
     ]
    }
   ],
   "source": [
    "covid_comments = covid_comments.loc[covid_comments[\"Comment\"].isna()==False]\n",
    "print('There are',len(covid_comments),'non-empty comments.')"
   ]
  },
  {
   "cell_type": "code",
   "execution_count": 33,
   "id": "0fadc218",
   "metadata": {},
   "outputs": [],
   "source": [
    "count_user_covid = covid_comments['ID_CommunityIdentity'].value_counts()\n",
    "count_article_covid = covid_comments['ID_GodotObject'].value_counts()"
   ]
  },
  {
   "cell_type": "code",
   "execution_count": 34,
   "id": "2ebddefe",
   "metadata": {},
   "outputs": [
    {
     "data": {
      "text/plain": [
       "158.0"
      ]
     },
     "execution_count": 34,
     "metadata": {},
     "output_type": "execute_result"
    }
   ],
   "source": [
    "count_article_covid.quantile(0.5)"
   ]
  },
  {
   "cell_type": "code",
   "execution_count": 35,
   "id": "299a7e77",
   "metadata": {},
   "outputs": [
    {
     "data": {
      "text/plain": [
       "158.0"
      ]
     },
     "execution_count": 35,
     "metadata": {},
     "output_type": "execute_result"
    }
   ],
   "source": [
    "count_article_covid.median()"
   ]
  },
  {
   "cell_type": "code",
   "execution_count": 36,
   "id": "da64dd2e",
   "metadata": {},
   "outputs": [
    {
     "name": "stdout",
     "output_type": "stream",
     "text": [
      "Number of unique users: 64401\n",
      "Mean comments per user: 217.64365460163663\n",
      "With a standard deviation of: 1515.347587011008\n",
      "Number of unique articles: 14135\n",
      "Mean comments per article: 991.6143615139724\n",
      "With a standard deviation of: 3638.183729292492\n"
     ]
    }
   ],
   "source": [
    "stats(covid_comments,count_user_covid,count_article_covid)"
   ]
  },
  {
   "cell_type": "code",
   "execution_count": 36,
   "id": "b904f30b",
   "metadata": {},
   "outputs": [
    {
     "data": {
      "text/plain": [
       "3628.0"
      ]
     },
     "execution_count": 36,
     "metadata": {},
     "output_type": "execute_result"
    }
   ],
   "source": [
    "count_user_covid.quantile(0.99)"
   ]
  },
  {
   "cell_type": "code",
   "execution_count": 37,
   "id": "0052a051",
   "metadata": {},
   "outputs": [
    {
     "data": {
      "text/plain": [
       "18594.779999999988"
      ]
     },
     "execution_count": 37,
     "metadata": {},
     "output_type": "execute_result"
    }
   ],
   "source": [
    "count_article_covid.quantile(0.99)"
   ]
  },
  {
   "cell_type": "code",
   "execution_count": 38,
   "id": "81247bfd",
   "metadata": {},
   "outputs": [
    {
     "name": "stdout",
     "output_type": "stream",
     "text": [
      "Maximum number of characters: 1492\n",
      "Minimum number of characters: 1\n",
      "Mean number of characters: 133.50374277573047\n",
      "Maximum number of words: 577\n",
      "Minimum number of words: 1\n",
      "Mean number of words: 19.762779912686998\n",
      "Amount of comments with exactly one word: 803244\n"
     ]
    }
   ],
   "source": [
    "text_stats(covid_comments)"
   ]
  },
  {
   "cell_type": "code",
   "execution_count": 113,
   "id": "cf97cf69",
   "metadata": {},
   "outputs": [],
   "source": [
    "covid_comments['Word Count'] = covid_comments['Comment'].str.count(' ').add(1)"
   ]
  },
  {
   "cell_type": "code",
   "execution_count": 40,
   "id": "2b8c944e",
   "metadata": {
    "scrolled": true
   },
   "outputs": [
    {
     "data": {
      "text/plain": [
       "107.0"
      ]
     },
     "execution_count": 40,
     "metadata": {},
     "output_type": "execute_result"
    }
   ],
   "source": [
    "covid_comments['Word Count'].quantile(0.99)"
   ]
  },
  {
   "cell_type": "code",
   "execution_count": 41,
   "id": "146b9e46",
   "metadata": {},
   "outputs": [
    {
     "data": {
      "text/plain": [
       "array([[<AxesSubplot: title={'center': 'Word Count'}>]], dtype=object)"
      ]
     },
     "execution_count": 41,
     "metadata": {},
     "output_type": "execute_result"
    },
    {
     "data": {
      "image/png": "[encoded data removed]",
      "text/plain": [
       "<Figure size 640x480 with 1 Axes>"
      ]
     },
     "metadata": {},
     "output_type": "display_data"
    }
   ],
   "source": [
    "covid_comments[covid_comments['Word Count']<merged_quantile].hist(column='Word Count')"
   ]
  },
  {
   "cell_type": "code",
   "execution_count": 42,
   "id": "38a7a921",
   "metadata": {},
   "outputs": [],
   "source": [
    "covid_comments_length = covid_comments.loc[(covid_comments['Word Count'] >10) & (covid_comments['Word Count'] <merged_quantile)]"
   ]
  },
  {
   "cell_type": "code",
   "execution_count": 43,
   "id": "e38379d2",
   "metadata": {},
   "outputs": [],
   "source": [
    "covid_comments_length[['Comment', 'ID_Posting']].to_csv('../data/covid_sample.csv', header = True, index = False)"
   ]
  },
  {
   "cell_type": "markdown",
   "id": "01eb121c",
   "metadata": {},
   "source": [
    "## Data Exploration (01/2020-11/2021; non-COVID-19 articles)"
   ]
  },
  {
   "cell_type": "code",
   "execution_count": 37,
   "id": "ee572b5d",
   "metadata": {},
   "outputs": [
    {
     "name": "stdout",
     "output_type": "stream",
     "text": [
      "There are 16152559 non-empty comments.\n"
     ]
    }
   ],
   "source": [
    "non_covid_comments = non_covid_comments.loc[non_covid_comments[\"Comment\"].isna()==False]\n",
    "non_covid_comments = non_covid_comments.loc[non_covid_comments['createdAt']>min(covid_comments['createdAt'])]\n",
    "print('There are',len(non_covid_comments),'non-empty comments.')"
   ]
  },
  {
   "cell_type": "code",
   "execution_count": 38,
   "id": "eb5a6bee",
   "metadata": {},
   "outputs": [],
   "source": [
    "count_user_non_covid = non_covid_comments['ID_CommunityIdentity'].value_counts()\n",
    "count_article_non_covid = non_covid_comments['ID_GodotObject'].value_counts()"
   ]
  },
  {
   "cell_type": "code",
   "execution_count": 39,
   "id": "0434d839",
   "metadata": {},
   "outputs": [
    {
     "name": "stdout",
     "output_type": "stream",
     "text": [
      "Number of unique users: 82354\n",
      "Mean comments per user: 196.1356946839255\n",
      "With a standard deviation of: 806.4199693155437\n",
      "Number of unique articles: 68642\n",
      "Mean comments per article: 235.31597272806735\n",
      "With a standard deviation of: 1035.5575515378098\n"
     ]
    }
   ],
   "source": [
    "stats(non_covid_comments,count_user_non_covid,count_article_non_covid)"
   ]
  },
  {
   "cell_type": "code",
   "execution_count": 47,
   "id": "4b8c5033",
   "metadata": {},
   "outputs": [
    {
     "data": {
      "text/plain": [
       "3331.4100000000035"
      ]
     },
     "execution_count": 47,
     "metadata": {},
     "output_type": "execute_result"
    }
   ],
   "source": [
    "count_user_non_covid.quantile(0.99)"
   ]
  },
  {
   "cell_type": "code",
   "execution_count": 48,
   "id": "b3c99d77",
   "metadata": {},
   "outputs": [
    {
     "data": {
      "text/plain": [
       "2113.0"
      ]
     },
     "execution_count": 48,
     "metadata": {},
     "output_type": "execute_result"
    }
   ],
   "source": [
    "count_article_non_covid.quantile(0.75)"
   ]
  },
  {
   "cell_type": "code",
   "execution_count": 49,
   "id": "6c532bdf",
   "metadata": {},
   "outputs": [
    {
     "name": "stdout",
     "output_type": "stream",
     "text": [
      "Maximum number of characters: 1496\n",
      "Minimum number of characters: 1\n",
      "Mean number of characters: 181.9099122312446\n",
      "Maximum number of words: 591\n",
      "Minimum number of words: 1\n",
      "Mean number of words: 26.84520297991173\n",
      "Amount of comments with exactly one word: 549895\n"
     ]
    }
   ],
   "source": [
    "text_stats(non_covid_comments)"
   ]
  },
  {
   "cell_type": "code",
   "execution_count": 133,
   "id": "479e089d",
   "metadata": {},
   "outputs": [
    {
     "data": {
      "text/plain": [
       "413270"
      ]
     },
     "execution_count": 133,
     "metadata": {},
     "output_type": "execute_result"
    }
   ],
   "source": [
    "len(non_covid_comments.loc[(non_covid_comments['Word Count'] >merged_quantile)])+len(covid_comments.loc[(covid_comments['Word Count'] >merged_quantile)])+len(merged_2019_final.loc[(merged_2019_final['Word Count'] >merged_quantile)])"
   ]
  },
  {
   "cell_type": "code",
   "execution_count": 114,
   "id": "e7ab9269",
   "metadata": {},
   "outputs": [],
   "source": [
    "non_covid_comments['Word Count'] = non_covid_comments['Comment'].str.count(' ').add(1)"
   ]
  },
  {
   "cell_type": "code",
   "execution_count": 51,
   "id": "34781d98",
   "metadata": {
    "scrolled": true
   },
   "outputs": [
    {
     "data": {
      "text/plain": [
       "112.0"
      ]
     },
     "execution_count": 51,
     "metadata": {},
     "output_type": "execute_result"
    }
   ],
   "source": [
    "non_covid_comments['Word Count'].quantile(0.99)"
   ]
  },
  {
   "cell_type": "code",
   "execution_count": 52,
   "id": "aa7d9aca",
   "metadata": {},
   "outputs": [],
   "source": [
    "non_covid_comments_length = non_covid_comments.loc[(non_covid_comments['Word Count'] >10) & (non_covid_comments['Word Count'] <merged_quantile)]"
   ]
  },
  {
   "cell_type": "code",
   "execution_count": 53,
   "id": "228951e4",
   "metadata": {},
   "outputs": [],
   "source": [
    "non_covid_comments_length[['Comment', 'ID_Posting']].to_csv('../data/non_covid_sample.csv', header=True, index = False)"
   ]
  },
  {
   "cell_type": "markdown",
   "id": "1c90f9f5",
   "metadata": {},
   "source": [
    "## Data Exploration (reference data from 2019)"
   ]
  },
  {
   "cell_type": "code",
   "execution_count": 40,
   "id": "0daa3c4a",
   "metadata": {},
   "outputs": [
    {
     "name": "stdout",
     "output_type": "stream",
     "text": [
      "Total amount of comments: 9682153\n",
      "Amount of NaN-comments: 431912\n"
     ]
    }
   ],
   "source": [
    "merged_2019 = pd.merge(comments_2019,keywords)\n",
    "total(merged_2019)"
   ]
  },
  {
   "cell_type": "code",
   "execution_count": 41,
   "id": "23a93f1d",
   "metadata": {},
   "outputs": [],
   "source": [
    "merged_2019_missing = comments_2019.join(missing_articles,on = 'ID_GodotObject',how='left', rsuffix='other')\n",
    "merged_2019_missing = merged_2019_missing.drop(merged_2019_missing.columns[[5,6,8,9,10,11]], axis=1)\n",
    "merged_2019_missing = merged_2019_missing[~merged_2019_missing['keyword'].isnull()]"
   ]
  },
  {
   "cell_type": "code",
   "execution_count": 42,
   "id": "93738830",
   "metadata": {},
   "outputs": [],
   "source": [
    "merged_2019_final = pd.concat([merged_2019.reset_index(),merged_2019_missing.reset_index()])\n",
    "merged_2019_final = merged_2019_final.drop(merged_2019_final.columns[0],axis=1)"
   ]
  },
  {
   "cell_type": "code",
   "execution_count": 43,
   "id": "8c16eef0",
   "metadata": {},
   "outputs": [
    {
     "name": "stdout",
     "output_type": "stream",
     "text": [
      "There are 0 COVID-19 related articles.\n",
      "With 0 comments.\n"
     ]
    }
   ],
   "source": [
    "#test if there where any COVID-19 related articles in 2019\n",
    "unique_articles_2019 = merged_2019_final.drop_duplicates(subset='ID_GodotObject').reset_index(drop=True)\n",
    "unique_articles_2019 = unique_articles_2019.loc[unique_articles_2019['keyword'].isna() == False]\n",
    "covid_article_ids_2019 = unique_articles_2019['ID_GodotObject'].loc[unique_articles_2019['keyword'].apply(lambda x: any(n in x for n in covid_keys))]\n",
    "print('There are', len(covid_article_ids_2019),'COVID-19 related articles.')\n",
    "covid_comments_2019 = merged_2019_final.loc[merged_2019_final['ID_GodotObject'].isin(list(covid_article_ids_2019))]\n",
    "print('With',len(covid_comments_2019),'comments.')"
   ]
  },
  {
   "cell_type": "code",
   "execution_count": 44,
   "id": "8de49994",
   "metadata": {
    "scrolled": true
   },
   "outputs": [
    {
     "name": "stdout",
     "output_type": "stream",
     "text": [
      "There are 9250241 non-empty comments.\n"
     ]
    }
   ],
   "source": [
    "merged_2019_final = merged_2019_final.loc[merged_2019_final[\"Comment\"].isna()==False]\n",
    "print('There are',len(merged_2019_final),'non-empty comments.')"
   ]
  },
  {
   "cell_type": "code",
   "execution_count": 45,
   "id": "ed267a2e",
   "metadata": {},
   "outputs": [],
   "source": [
    "count_user_2019 = merged_2019_final['ID_CommunityIdentity'].value_counts()\n",
    "count_article_2019 = merged_2019_final['ID_GodotObject'].value_counts()"
   ]
  },
  {
   "cell_type": "code",
   "execution_count": 50,
   "id": "79e4d906",
   "metadata": {},
   "outputs": [
    {
     "data": {
      "text/plain": [
       "8.0"
      ]
     },
     "execution_count": 50,
     "metadata": {},
     "output_type": "execute_result"
    }
   ],
   "source": [
    "count_user_covid.median()"
   ]
  },
  {
   "cell_type": "code",
   "execution_count": 47,
   "id": "65fa40c9",
   "metadata": {},
   "outputs": [
    {
     "name": "stdout",
     "output_type": "stream",
     "text": [
      "Number of unique users: 55780\n",
      "Mean comments per user: 165.834367156687\n",
      "With a standard deviation of: 648.4875933911954\n",
      "Number of unique articles: 49421\n",
      "Mean comments per article: 187.17227494384977\n",
      "With a standard deviation of: 777.3675812633647\n"
     ]
    }
   ],
   "source": [
    "stats(merged_2019_final,count_user_2019,count_article_2019)"
   ]
  },
  {
   "cell_type": "code",
   "execution_count": 61,
   "id": "41920dad",
   "metadata": {
    "scrolled": true
   },
   "outputs": [
    {
     "data": {
      "text/plain": [
       "2776.209999999999"
      ]
     },
     "execution_count": 61,
     "metadata": {},
     "output_type": "execute_result"
    }
   ],
   "source": [
    "count_user_2019.quantile(0.99)"
   ]
  },
  {
   "cell_type": "code",
   "execution_count": 62,
   "id": "3657e87e",
   "metadata": {},
   "outputs": [
    {
     "data": {
      "text/plain": [
       "1815.800000000003"
      ]
     },
     "execution_count": 62,
     "metadata": {},
     "output_type": "execute_result"
    }
   ],
   "source": [
    "count_article_2019.quantile(0.99)"
   ]
  },
  {
   "cell_type": "code",
   "execution_count": 63,
   "id": "cccb1695",
   "metadata": {
    "scrolled": true
   },
   "outputs": [
    {
     "name": "stdout",
     "output_type": "stream",
     "text": [
      "Maximum number of characters: 1487\n",
      "Minimum number of characters: 1\n",
      "Mean number of characters: 179.95249431879668\n",
      "Maximum number of words: 572\n",
      "Minimum number of words: 1\n",
      "Mean number of words: 26.526039483728045\n",
      "Amount of comments with exactly one word: 310400\n"
     ]
    }
   ],
   "source": [
    "text_stats(merged_2019_final)"
   ]
  },
  {
   "cell_type": "code",
   "execution_count": 115,
   "id": "df670db5",
   "metadata": {},
   "outputs": [],
   "source": [
    "merged_2019_final['Word Count'] = merged_2019_final['Comment'].str.count(' ').add(1)"
   ]
  },
  {
   "cell_type": "code",
   "execution_count": 65,
   "id": "a8f18638",
   "metadata": {
    "scrolled": true
   },
   "outputs": [
    {
     "data": {
      "text/plain": [
       "112.0"
      ]
     },
     "execution_count": 65,
     "metadata": {},
     "output_type": "execute_result"
    }
   ],
   "source": [
    "merged_2019_final['Word Count'].quantile(0.99)"
   ]
  },
  {
   "cell_type": "code",
   "execution_count": 66,
   "id": "ec97f5ac",
   "metadata": {},
   "outputs": [],
   "source": [
    "merged_2019_final_length = merged_2019_final.loc[(merged_2019_final['Word Count'] >10) & (merged_2019_final['Word Count'] <merged_quantile)]"
   ]
  },
  {
   "cell_type": "code",
   "execution_count": 67,
   "id": "5b3769a3",
   "metadata": {},
   "outputs": [],
   "source": [
    "merged_2019_final_length[['Comment', 'ID_Posting']].to_csv('../data/2019_reference_sample.csv', header = True, index = False)"
   ]
  }
 ],
 "metadata": {
  "interpreter": {
   "hash": "8af634696c0e199b60ec7a55230a896342180e790ec00540287bfd386994fd7b"
  },
  "kernelspec": {
   "display_name": "Python 3 (ipykernel)",
   "language": "python",
   "name": "python3"
  },
  "language_info": {
   "codemirror_mode": {
    "name": "ipython",
    "version": 3
   },
   "file_extension": ".py",
   "mimetype": "text/x-python",
   "name": "python",
   "nbconvert_exporter": "python",
   "pygments_lexer": "ipython3",
   "version": "3.9.15"
  }
 },
 "nbformat": 4,
 "nbformat_minor": 5
}
